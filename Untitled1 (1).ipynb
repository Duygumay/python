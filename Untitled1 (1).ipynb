{
 "cells": [
  {
   "cell_type": "code",
   "execution_count": 5,
   "id": "0581fa32",
   "metadata": {},
   "outputs": [
    {
     "name": "stdout",
     "output_type": "stream",
     "text": [
      "merhaba\n",
      "Nasılsın\n",
      "İyi misin\n"
     ]
    }
   ],
   "source": [
    "print(\"merhaba\\nNasılsın\\nİyi misin\")"
   ]
  },
  {
   "cell_type": "code",
   "execution_count": 6,
   "id": "a2d770c5",
   "metadata": {},
   "outputs": [
    {
     "name": "stdout",
     "output_type": "stream",
     "text": [
      "selam\n",
      "Gençler\n"
     ]
    }
   ],
   "source": [
    "print(\"selam\\nGençler\")"
   ]
  },
  {
   "cell_type": "code",
   "execution_count": 7,
   "id": "65019e3d",
   "metadata": {},
   "outputs": [
    {
     "name": "stdout",
     "output_type": "stream",
     "text": [
      "ocak\tŞubat\tMart\n"
     ]
    }
   ],
   "source": [
    "print(\"ocak\\tŞubat\\tMart\")"
   ]
  },
  {
   "cell_type": "code",
   "execution_count": 8,
   "id": "22ee0f8a",
   "metadata": {},
   "outputs": [
    {
     "name": "stdout",
     "output_type": "stream",
     "text": [
      "ocak\t\t\tŞubat\n"
     ]
    }
   ],
   "source": [
    "print(\"ocak\\t\\t\\tŞubat\")"
   ]
  },
  {
   "cell_type": "code",
   "execution_count": 9,
   "id": "a4914155",
   "metadata": {},
   "outputs": [
    {
     "name": "stdout",
     "output_type": "stream",
     "text": [
      "<class 'int'>\n"
     ]
    }
   ],
   "source": [
    "# integer (tamsayı) türü\n",
    "a = 65\n",
    "print(type(a))"
   ]
  },
  {
   "cell_type": "code",
   "execution_count": 11,
   "id": "7b080a87",
   "metadata": {},
   "outputs": [
    {
     "name": "stdout",
     "output_type": "stream",
     "text": [
      "<class 'float'>\n"
     ]
    }
   ],
   "source": [
    "#float (ondalık sayı) türü\n",
    "a = 5.87\n",
    "print(type(a))"
   ]
  },
  {
   "cell_type": "code",
   "execution_count": 12,
   "id": "996fcf80",
   "metadata": {},
   "outputs": [
    {
     "name": "stdout",
     "output_type": "stream",
     "text": [
      "3.4.5.6.7.8.9\n"
     ]
    }
   ],
   "source": [
    "#sep nparametresi sayesinde değerlerin arasına nokta konuyor.\n",
    "print(3,4,5,6,7,8,9,sep=\".\")"
   ]
  },
  {
   "cell_type": "code",
   "execution_count": 13,
   "id": "74101a8d",
   "metadata": {},
   "outputs": [
    {
     "name": "stdout",
     "output_type": "stream",
     "text": [
      "06/04/2015\n"
     ]
    }
   ],
   "source": [
    "#değerlerin arasında\"/\" sembolü yerleştiriliyor\n",
    "print(\"06\",\"04\",\"2015\",sep =\"/\")"
   ]
  },
  {
   "cell_type": "code",
   "execution_count": 15,
   "id": "7c09fcf0",
   "metadata": {},
   "outputs": [
    {
     "name": "stdout",
     "output_type": "stream",
     "text": [
      "mustafa/murat/coşkun\n"
     ]
    }
   ],
   "source": [
    "print(\"mustafa\",\"murat\",\"coşkun\",sep = \"/\")"
   ]
  },
  {
   "cell_type": "code",
   "execution_count": 16,
   "id": "a6e7a69a",
   "metadata": {},
   "outputs": [
    {
     "name": "stdout",
     "output_type": "stream",
     "text": [
      "d\n",
      "u\n",
      "y\n",
      "g\n",
      "u\n"
     ]
    }
   ],
   "source": [
    "print(*\"duygu\",sep = \"\\n\")"
   ]
  },
  {
   "cell_type": "code",
   "execution_count": 20,
   "id": "391c9ae2",
   "metadata": {},
   "outputs": [
    {
     "name": "stdout",
     "output_type": "stream",
     "text": [
      "d+u+y+g+u\n"
     ]
    }
   ],
   "source": [
    "print(*\"duygu\", sep = \"+\")"
   ]
  },
  {
   "cell_type": "code",
   "execution_count": 21,
   "id": "beb992aa",
   "metadata": {},
   "outputs": [
    {
     "data": {
      "text/plain": [
       "43.0"
      ]
     },
     "execution_count": 21,
     "metadata": {},
     "output_type": "execute_result"
    }
   ],
   "source": [
    "# çevireceğimiz sayıyı parantez içine alıyoruz.\n",
    "a = 43\n",
    "float(43)"
   ]
  },
  {
   "cell_type": "code",
   "execution_count": 22,
   "id": "3e565ca7",
   "metadata": {},
   "outputs": [
    {
     "data": {
      "text/plain": [
       "-1.0"
      ]
     },
     "execution_count": 22,
     "metadata": {},
     "output_type": "execute_result"
    }
   ],
   "source": [
    "float(-1)"
   ]
  },
  {
   "cell_type": "code",
   "execution_count": 23,
   "id": "0227813b",
   "metadata": {},
   "outputs": [
    {
     "data": {
      "text/plain": [
       "'32324324'"
      ]
     },
     "execution_count": 23,
     "metadata": {},
     "output_type": "execute_result"
    }
   ],
   "source": [
    "a = 32324324\n",
    "b = str(a)\n",
    "b"
   ]
  },
  {
   "cell_type": "code",
   "execution_count": 24,
   "id": "4e6ec94e",
   "metadata": {},
   "outputs": [
    {
     "data": {
      "text/plain": [
       "8"
      ]
     },
     "execution_count": 24,
     "metadata": {},
     "output_type": "execute_result"
    }
   ],
   "source": [
    "len(b)"
   ]
  },
  {
   "cell_type": "code",
   "execution_count": 25,
   "id": "195c6c38",
   "metadata": {},
   "outputs": [
    {
     "data": {
      "text/plain": [
       "'3.14343'"
      ]
     },
     "execution_count": 25,
     "metadata": {},
     "output_type": "execute_result"
    }
   ],
   "source": [
    "t = 3.14343\n",
    "y = str (t)\n",
    "y"
   ]
  },
  {
   "cell_type": "code",
   "execution_count": null,
   "id": "b92408c2",
   "metadata": {},
   "outputs": [],
   "source": []
  }
 ],
 "metadata": {
  "kernelspec": {
   "display_name": "Python 3 (ipykernel)",
   "language": "python",
   "name": "python3"
  },
  "language_info": {
   "codemirror_mode": {
    "name": "ipython",
    "version": 3
   },
   "file_extension": ".py",
   "mimetype": "text/x-python",
   "name": "python",
   "nbconvert_exporter": "python",
   "pygments_lexer": "ipython3",
   "version": "3.9.13"
  }
 },
 "nbformat": 4,
 "nbformat_minor": 5
}
