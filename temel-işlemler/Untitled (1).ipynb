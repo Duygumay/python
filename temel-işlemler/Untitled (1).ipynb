{
 "cells": [
  {
   "cell_type": "markdown",
   "id": "76caf786",
   "metadata": {},
   "source": [
    "# listeler"
   ]
  },
  {
   "cell_type": "markdown",
   "id": "41d899eb",
   "metadata": {},
   "source": [
    "bu bölümde yapacağımız işlemler şunlardır"
   ]
  },
  {
   "cell_type": "markdown",
   "id": "a47b6043",
   "metadata": {},
   "source": [
    "1. liste oluşturma\n",
    "2. indeksleme ve parçalama\n",
    "3. temel liste metodları ve işlemleri\n",
    "4. iç içe listeler"
   ]
  },
  {
   "cell_type": "markdown",
   "id": "04ad5655",
   "metadata": {},
   "source": [
    "# liste oluşturma"
   ]
  },
  {
   "cell_type": "code",
   "execution_count": 25,
   "id": "91966a83",
   "metadata": {
    "scrolled": true
   },
   "outputs": [
    {
     "data": {
      "text/plain": [
       "['elma', 'mandalina', 'portakal']"
      ]
     },
     "execution_count": 25,
     "metadata": {},
     "output_type": "execute_result"
    }
   ],
   "source": [
    "meyveler = [ \"elma\",\"mandalina\",\"portakal\"]\n",
    "meyveler"
   ]
  },
  {
   "cell_type": "code",
   "execution_count": 15,
   "id": "fe79abb0",
   "metadata": {},
   "outputs": [
    {
     "data": {
      "text/plain": [
       "[3, 4, 5, 6]"
      ]
     },
     "execution_count": 15,
     "metadata": {},
     "output_type": "execute_result"
    }
   ],
   "source": [
    "liste2 = [ 3,4,5,6]\n",
    "liste2"
   ]
  },
  {
   "cell_type": "code",
   "execution_count": 14,
   "id": "68faea51",
   "metadata": {},
   "outputs": [
    {
     "data": {
      "text/plain": [
       "[1, 3, 5, 7, 9]"
      ]
     },
     "execution_count": 14,
     "metadata": {},
     "output_type": "execute_result"
    }
   ],
   "source": [
    "liste3 = [ 1,3,5,7,9]\n",
    "liste3"
   ]
  },
  {
   "cell_type": "code",
   "execution_count": 26,
   "id": "3d00a717",
   "metadata": {},
   "outputs": [
    {
     "data": {
      "text/plain": [
       "11"
      ]
     },
     "execution_count": 26,
     "metadata": {},
     "output_type": "execute_result"
    }
   ],
   "source": [
    "# len fonksiyonu listeler üzerinde de kullanılabilir.\n",
    "liste3 = [3,4,5,6,6,7,8,9,0,0,0]\n",
    "len(liste3)"
   ]
  },
  {
   "cell_type": "markdown",
   "id": "c087de9f",
   "metadata": {},
   "source": [
    "bir string list() fonksiyonu yardımıyla listeye dönüştürülebilir."
   ]
  },
  {
   "cell_type": "code",
   "execution_count": 27,
   "id": "7ca0bba6",
   "metadata": {},
   "outputs": [
    {
     "data": {
      "text/plain": [
       "['M', 'e', 'r', 'h', 'a', 'b', 'a']"
      ]
     },
     "execution_count": 27,
     "metadata": {},
     "output_type": "execute_result"
    }
   ],
   "source": [
    "s = \"Merhaba\"\n",
    "lst = list(s)\n",
    "lst"
   ]
  },
  {
   "cell_type": "code",
   "execution_count": 29,
   "id": "1d03b9bb",
   "metadata": {},
   "outputs": [
    {
     "data": {
      "text/plain": [
       "['1', '2', '5', '2', '1', '4', '5']"
      ]
     },
     "execution_count": 29,
     "metadata": {},
     "output_type": "execute_result"
    }
   ],
   "source": [
    "s = \"1252145\"\n",
    "lst = list(s)\n",
    "lst"
   ]
  },
  {
   "cell_type": "code",
   "execution_count": 30,
   "id": "5051583c",
   "metadata": {},
   "outputs": [
    {
     "data": {
      "text/plain": [
       "[3, 4, 5, 6, 7, 8, 9]"
      ]
     },
     "execution_count": 30,
     "metadata": {},
     "output_type": "execute_result"
    }
   ],
   "source": [
    "liste = [3,4,5,6,7,8,9]\n",
    "liste"
   ]
  },
  {
   "cell_type": "code",
   "execution_count": 31,
   "id": "74faa8a3",
   "metadata": {},
   "outputs": [
    {
     "data": {
      "text/plain": [
       "7"
      ]
     },
     "execution_count": 31,
     "metadata": {},
     "output_type": "execute_result"
    }
   ],
   "source": [
    "#4.eleman\n",
    "liste[4]"
   ]
  },
  {
   "cell_type": "code",
   "execution_count": 36,
   "id": "aa3dacfa",
   "metadata": {},
   "outputs": [
    {
     "data": {
      "text/plain": [
       "[3, 4, 5, 6]"
      ]
     },
     "execution_count": 36,
     "metadata": {},
     "output_type": "execute_result"
    }
   ],
   "source": [
    "# baştan 4. indekse kadar ( dahil değil )\n",
    "liste [ :4]"
   ]
  },
  {
   "cell_type": "code",
   "execution_count": 39,
   "id": "d1721c37",
   "metadata": {},
   "outputs": [
    {
     "data": {
      "text/plain": [
       "[4, 5, 6, 7]"
      ]
     },
     "execution_count": 39,
     "metadata": {},
     "output_type": "execute_result"
    }
   ],
   "source": [
    "# 1. indeksten 5. indekse kadar\n",
    "liste [1:5]"
   ]
  },
  {
   "cell_type": "code",
   "execution_count": 40,
   "id": "fdd4c9ef",
   "metadata": {},
   "outputs": [
    {
     "data": {
      "text/plain": [
       "[8, 9]"
      ]
     },
     "execution_count": 40,
     "metadata": {},
     "output_type": "execute_result"
    }
   ],
   "source": [
    "liste [5:]"
   ]
  },
  {
   "cell_type": "code",
   "execution_count": 41,
   "id": "5d7209fe",
   "metadata": {},
   "outputs": [
    {
     "data": {
      "text/plain": [
       "3"
      ]
     },
     "execution_count": 41,
     "metadata": {},
     "output_type": "execute_result"
    }
   ],
   "source": [
    "# ilk eleman\n",
    "liste[-len(liste)]"
   ]
  },
  {
   "cell_type": "code",
   "execution_count": 42,
   "id": "f80c826f",
   "metadata": {},
   "outputs": [
    {
     "data": {
      "text/plain": [
       "9"
      ]
     },
     "execution_count": 42,
     "metadata": {},
     "output_type": "execute_result"
    }
   ],
   "source": [
    "# sonuncu eleman\n",
    "liste[len(liste)-1]"
   ]
  },
  {
   "cell_type": "code",
   "execution_count": 43,
   "id": "d3f9ca10",
   "metadata": {},
   "outputs": [
    {
     "data": {
      "text/plain": [
       "[3, 5, 7, 9]"
      ]
     },
     "execution_count": 43,
     "metadata": {},
     "output_type": "execute_result"
    }
   ],
   "source": [
    "liste[::2]"
   ]
  },
  {
   "cell_type": "code",
   "execution_count": 44,
   "id": "5e180735",
   "metadata": {},
   "outputs": [
    {
     "data": {
      "text/plain": [
       "[9, 8, 7, 6, 5, 4, 3]"
      ]
     },
     "execution_count": 44,
     "metadata": {},
     "output_type": "execute_result"
    }
   ],
   "source": [
    "liste [::-1]"
   ]
  },
  {
   "cell_type": "code",
   "execution_count": 49,
   "id": "e9852c4b",
   "metadata": {},
   "outputs": [],
   "source": [
    "liste = [1,2,3,4]\n",
    "liste = liste + [\"Murat\"]"
   ]
  },
  {
   "cell_type": "code",
   "execution_count": 50,
   "id": "3f040673",
   "metadata": {},
   "outputs": [
    {
     "data": {
      "text/plain": [
       "[1, 2, 3, 4, 'Murat']"
      ]
     },
     "execution_count": 50,
     "metadata": {},
     "output_type": "execute_result"
    }
   ],
   "source": [
    "liste"
   ]
  },
  {
   "cell_type": "code",
   "execution_count": null,
   "id": "4454824f",
   "metadata": {},
   "outputs": [],
   "source": []
  }
 ],
 "metadata": {
  "kernelspec": {
   "display_name": "Python 3 (ipykernel)",
   "language": "python",
   "name": "python3"
  },
  "language_info": {
   "codemirror_mode": {
    "name": "ipython",
    "version": 3
   },
   "file_extension": ".py",
   "mimetype": "text/x-python",
   "name": "python",
   "nbconvert_exporter": "python",
   "pygments_lexer": "ipython3",
   "version": "3.9.13"
  }
 },
 "nbformat": 4,
 "nbformat_minor": 5
}
