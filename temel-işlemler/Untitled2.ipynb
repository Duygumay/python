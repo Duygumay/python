{
 "cells": [
  {
   "cell_type": "code",
   "execution_count": 2,
   "id": "18c96969",
   "metadata": {},
   "outputs": [
    {
     "name": "stdout",
     "output_type": "stream",
     "text": [
      "yaşınızı giriniz:17\n",
      "bu mekana giremezsiniz.\n"
     ]
    }
   ],
   "source": [
    "# 18 yaş kontrolü\n",
    "yaş=int(input(\"yaşınızı giriniz:\"))\n",
    "if(yaş<18):\n",
    "    print(\"bu mekana giremezsiniz.\")"
   ]
  },
  {
   "cell_type": "code",
   "execution_count": 8,
   "id": "362996d2",
   "metadata": {},
   "outputs": [
    {
     "name": "stdout",
     "output_type": "stream",
     "text": [
      "yaşınızı giriniz:33\n",
      "girebilirsiniz.\n"
     ]
    }
   ],
   "source": [
    "yaş=int(input(\"yaşınızı giriniz:\"))\n",
    "if(yaş>18):\n",
    "    print(\"girebilirsiniz.\")"
   ]
  },
  {
   "cell_type": "code",
   "execution_count": 11,
   "id": "94ca37b2",
   "metadata": {},
   "outputs": [
    {
     "name": "stdout",
     "output_type": "stream",
     "text": [
      "kilo giriniz:61\n",
      "sağlıklı\n"
     ]
    }
   ],
   "source": [
    "kilo=int(input(\"kilo giriniz:\"))\n",
    "if(kilo<70):\n",
    "    print(\"sağlıklı\")\n",
    "else:\n",
    "    print(\"sağlıksız\")"
   ]
  },
  {
   "cell_type": "markdown",
   "id": "14cea540",
   "metadata": {},
   "source": [
    "# mantıksal bağlaçlar"
   ]
  },
  {
   "cell_type": "code",
   "execution_count": 16,
   "id": "88d626dc",
   "metadata": {},
   "outputs": [
    {
     "data": {
      "text/plain": [
       "True"
      ]
     },
     "execution_count": 16,
     "metadata": {},
     "output_type": "execute_result"
    }
   ],
   "source": [
    "1 < 2 and \"murat\"==\"murat\""
   ]
  },
  {
   "cell_type": "code",
   "execution_count": 18,
   "id": "62a91281",
   "metadata": {},
   "outputs": [
    {
     "data": {
      "text/plain": [
       "False"
      ]
     },
     "execution_count": 18,
     "metadata": {},
     "output_type": "execute_result"
    }
   ],
   "source": [
    "2 > 3 and \"murat\"==\"murat\""
   ]
  },
  {
   "cell_type": "code",
   "execution_count": 19,
   "id": "d517227d",
   "metadata": {},
   "outputs": [
    {
     "data": {
      "text/plain": [
       "True"
      ]
     },
     "execution_count": 19,
     "metadata": {},
     "output_type": "execute_result"
    }
   ],
   "source": [
    "1 < 2 or \"murat\" == \"murat\""
   ]
  },
  {
   "cell_type": "code",
   "execution_count": 20,
   "id": "08a9f1ca",
   "metadata": {},
   "outputs": [
    {
     "data": {
      "text/plain": [
       "True"
      ]
     },
     "execution_count": 20,
     "metadata": {},
     "output_type": "execute_result"
    }
   ],
   "source": [
    "2>3 or \"murat\"==\"murat\""
   ]
  },
  {
   "cell_type": "code",
   "execution_count": 21,
   "id": "ca5e931b",
   "metadata": {},
   "outputs": [
    {
     "data": {
      "text/plain": [
       "False"
      ]
     },
     "execution_count": 21,
     "metadata": {},
     "output_type": "execute_result"
    }
   ],
   "source": [
    "2>3 or \"murat\" != \"murat\""
   ]
  },
  {
   "cell_type": "code",
   "execution_count": 22,
   "id": "38887dfb",
   "metadata": {},
   "outputs": [
    {
     "data": {
      "text/plain": [
       "True"
      ]
     },
     "execution_count": 22,
     "metadata": {},
     "output_type": "execute_result"
    }
   ],
   "source": [
    "1 < 2 or \"murat\" != \"murat\""
   ]
  },
  {
   "cell_type": "code",
   "execution_count": 25,
   "id": "bb9fec61",
   "metadata": {},
   "outputs": [
    {
     "data": {
      "text/plain": [
       "True"
      ]
     },
     "execution_count": 25,
     "metadata": {},
     "output_type": "execute_result"
    }
   ],
   "source": [
    "2>3 or \"murat\" != \"murat\" or 3.14 < 4.32"
   ]
  },
  {
   "cell_type": "markdown",
   "id": "578ae7c0",
   "metadata": {},
   "source": [
    "# not operatörü"
   ]
  },
  {
   "cell_type": "code",
   "execution_count": 26,
   "id": "06afd000",
   "metadata": {},
   "outputs": [
    {
     "data": {
      "text/plain": [
       "False"
      ]
     },
     "execution_count": 26,
     "metadata": {},
     "output_type": "execute_result"
    }
   ],
   "source": [
    "not 2 ==2"
   ]
  },
  {
   "cell_type": "code",
   "execution_count": 29,
   "id": "f7350029",
   "metadata": {},
   "outputs": [
    {
     "data": {
      "text/plain": [
       "True"
      ]
     },
     "execution_count": 29,
     "metadata": {},
     "output_type": "execute_result"
    }
   ],
   "source": [
    "not \"pyton\" == \"php\""
   ]
  },
  {
   "cell_type": "code",
   "execution_count": 3,
   "id": "92d11f37",
   "metadata": {},
   "outputs": [
    {
     "data": {
      "text/plain": [
       "True"
      ]
     },
     "execution_count": 3,
     "metadata": {},
     "output_type": "execute_result"
    }
   ],
   "source": [
    "\"a\" in \"merhaba\""
   ]
  },
  {
   "cell_type": "code",
   "execution_count": 4,
   "id": "4e2a891d",
   "metadata": {},
   "outputs": [
    {
     "data": {
      "text/plain": [
       "True"
      ]
     },
     "execution_count": 4,
     "metadata": {},
     "output_type": "execute_result"
    }
   ],
   "source": [
    "\"mer\" in \"merhaba\""
   ]
  },
  {
   "cell_type": "code",
   "execution_count": 5,
   "id": "c3e65389",
   "metadata": {},
   "outputs": [
    {
     "data": {
      "text/plain": [
       "False"
      ]
     },
     "execution_count": 5,
     "metadata": {},
     "output_type": "execute_result"
    }
   ],
   "source": [
    "\"t\" in \"merhaba\""
   ]
  },
  {
   "cell_type": "code",
   "execution_count": 9,
   "id": "16a1948d",
   "metadata": {},
   "outputs": [
    {
     "data": {
      "text/plain": [
       "False"
      ]
     },
     "execution_count": 9,
     "metadata": {},
     "output_type": "execute_result"
    }
   ],
   "source": [
    "4 in [1234]"
   ]
  },
  {
   "cell_type": "code",
   "execution_count": 8,
   "id": "b265a08b",
   "metadata": {},
   "outputs": [
    {
     "data": {
      "text/plain": [
       "True"
      ]
     },
     "execution_count": 8,
     "metadata": {},
     "output_type": "execute_result"
    }
   ],
   "source": [
    "4 in [1,2,3,4]"
   ]
  },
  {
   "cell_type": "code",
   "execution_count": 10,
   "id": "85fc0b9d",
   "metadata": {},
   "outputs": [
    {
     "data": {
      "text/plain": [
       "False"
      ]
     },
     "execution_count": 10,
     "metadata": {},
     "output_type": "execute_result"
    }
   ],
   "source": [
    "\"4\" in [1234]"
   ]
  },
  {
   "cell_type": "code",
   "execution_count": 11,
   "id": "d8165707",
   "metadata": {},
   "outputs": [
    {
     "data": {
      "text/plain": [
       "True"
      ]
     },
     "execution_count": 11,
     "metadata": {},
     "output_type": "execute_result"
    }
   ],
   "source": [
    "\"4\" in \"1234\""
   ]
  },
  {
   "cell_type": "markdown",
   "id": "f6b60ea1",
   "metadata": {},
   "source": [
    "# for döngüsü"
   ]
  },
  {
   "cell_type": "code",
   "execution_count": 12,
   "id": "45f82ed2",
   "metadata": {},
   "outputs": [
    {
     "name": "stdout",
     "output_type": "stream",
     "text": [
      "2\n",
      "4\n",
      "6\n",
      "8\n"
     ]
    }
   ],
   "source": [
    "liste = [1,2,3,4,5,6,7,8,9]\n",
    "for eleman in liste:\n",
    "    if eleman % 2 ==0:\n",
    "        print(eleman)"
   ]
  },
  {
   "cell_type": "code",
   "execution_count": 13,
   "id": "345796b7",
   "metadata": {},
   "outputs": [
    {
     "name": "stdout",
     "output_type": "stream",
     "text": [
      "3\n",
      "6\n",
      "9\n"
     ]
    }
   ],
   "source": [
    "liste = [1,2,3,4,5,6,7,8,9]\n",
    "for eleman in liste:\n",
    "    if eleman % 3 ==0:\n",
    "        print(eleman)"
   ]
  },
  {
   "cell_type": "markdown",
   "id": "774b954f",
   "metadata": {},
   "source": [
    "# dosya açmak yazmak kapatmak"
   ]
  },
  {
   "cell_type": "code",
   "execution_count": null,
   "id": "f678e406",
   "metadata": {},
   "outputs": [],
   "source": [
    "open(\"bilgiler.txt\", \"w\") # dosyayı bulunduğumuz diziden açıyor"
   ]
  },
  {
   "cell_type": "code",
   "execution_count": null,
   "id": "fbd040ad",
   "metadata": {},
   "outputs": [],
   "source": [
    "file = open (\"C:/users/user/desktop/bilgiler.txt\", \"w\")"
   ]
  },
  {
   "cell_type": "code",
   "execution_count": 16,
   "id": "bb7f47b2",
   "metadata": {},
   "outputs": [],
   "source": [
    "file = open (\"bilgiler.txt\", \"w\", encoding=\"utf-8\") #türkçe karakter kullanılacağı"
   ]
  },
  {
   "cell_type": "code",
   "execution_count": 17,
   "id": "91059cb1",
   "metadata": {},
   "outputs": [
    {
     "data": {
      "text/plain": [
       "18"
      ]
     },
     "execution_count": 17,
     "metadata": {},
     "output_type": "execute_result"
    }
   ],
   "source": [
    "file.write(\"merhaba Pınarhisar\")"
   ]
  },
  {
   "cell_type": "code",
   "execution_count": 18,
   "id": "b488a97c",
   "metadata": {},
   "outputs": [],
   "source": [
    "file = open(\"bilgiler.txt\", \"r\" , encoding= \"utf-8\")"
   ]
  },
  {
   "cell_type": "code",
   "execution_count": 20,
   "id": "e18d71f7",
   "metadata": {},
   "outputs": [
    {
     "name": "stdout",
     "output_type": "stream",
     "text": [
      "merhaba Pınarhisar\n"
     ]
    }
   ],
   "source": [
    "file = open(\"bilgiler.txt\", \"r\" , encoding= \"utf-8\")\n",
    "for i in file:\n",
    "    print(i)\n",
    "file.close()"
   ]
  },
  {
   "cell_type": "code",
   "execution_count": null,
   "id": "6c842641",
   "metadata": {},
   "outputs": [],
   "source": [
    "print(file.readline()) #ilk satırı okur"
   ]
  },
  {
   "cell_type": "code",
   "execution_count": null,
   "id": "2fcbf7a4",
   "metadata": {},
   "outputs": [],
   "source": [
    "print(file.readlines()) # tüm metni okur"
   ]
  },
  {
   "cell_type": "code",
   "execution_count": null,
   "id": "e2f1d45d",
   "metadata": {},
   "outputs": [],
   "source": []
  }
 ],
 "metadata": {
  "kernelspec": {
   "display_name": "Python 3 (ipykernel)",
   "language": "python",
   "name": "python3"
  },
  "language_info": {
   "codemirror_mode": {
    "name": "ipython",
    "version": 3
   },
   "file_extension": ".py",
   "mimetype": "text/x-python",
   "name": "python",
   "nbconvert_exporter": "python",
   "pygments_lexer": "ipython3",
   "version": "3.9.13"
  }
 },
 "nbformat": 4,
 "nbformat_minor": 5
}
