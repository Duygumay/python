{
 "cells": [
  {
   "cell_type": "code",
   "execution_count": 2,
   "id": "adb41140",
   "metadata": {},
   "outputs": [
    {
     "name": "stdout",
     "output_type": "stream",
     "text": [
      "lütfen bir sayı giriniz8\n"
     ]
    },
    {
     "data": {
      "text/plain": [
       "'8'"
      ]
     },
     "execution_count": 2,
     "metadata": {},
     "output_type": "execute_result"
    }
   ],
   "source": [
    "input(\"lütfen bir sayı giriniz\")"
   ]
  },
  {
   "cell_type": "code",
   "execution_count": 3,
   "id": "b0b04f65",
   "metadata": {},
   "outputs": [
    {
     "name": "stdout",
     "output_type": "stream",
     "text": [
      "lütfen bir sayı giriniz 15\n",
      "kullanıcının girdiği değer:  15\n"
     ]
    }
   ],
   "source": [
    "a = input (\"lütfen bir sayı giriniz\") #kullanıcıdan aldığımız değer a değişkeni \n",
    "print(\"kullanıcının girdiği değer:\",a)"
   ]
  },
  {
   "cell_type": "code",
   "execution_count": 4,
   "id": "31febcca",
   "metadata": {},
   "outputs": [
    {
     "name": "stdout",
     "output_type": "stream",
     "text": [
      "Birinci Sayı:80\n",
      "ikinci sayı:70\n",
      "üçüncü sayı:82\n",
      "toplamları: 232\n"
     ]
    }
   ],
   "source": [
    "a = int(input(\"Birinci Sayı:\"))\n",
    "b = int(input(\"ikinci sayı:\"))\n",
    "c = int(input(\"üçüncü sayı:\"))\n",
    "print(\"toplamları:\", a+b+c)"
   ]
  },
  {
   "cell_type": "code",
   "execution_count": null,
   "id": "2d873855",
   "metadata": {},
   "outputs": [],
   "source": []
  }
 ],
 "metadata": {
  "kernelspec": {
   "display_name": "Python 3 (ipykernel)",
   "language": "python",
   "name": "python3"
  },
  "language_info": {
   "codemirror_mode": {
    "name": "ipython",
    "version": 3
   },
   "file_extension": ".py",
   "mimetype": "text/x-python",
   "name": "python",
   "nbconvert_exporter": "python",
   "pygments_lexer": "ipython3",
   "version": "3.9.13"
  }
 },
 "nbformat": 4,
 "nbformat_minor": 5
}
